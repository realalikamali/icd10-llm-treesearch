{
 "cells": [
  {
   "cell_type": "markdown",
   "metadata": {},
   "source": [
    "# Preprocessing ICD-10 Codes before using in LLM Report Generator"
   ]
  },
  {
   "cell_type": "code",
   "execution_count": 1,
   "metadata": {},
   "outputs": [],
   "source": [
    "import simple_icd_10_cm as cm\n",
    "from icd10cm_utils import find_main_ancestor"
   ]
  },
  {
   "cell_type": "code",
   "execution_count": 3,
   "metadata": {},
   "outputs": [],
   "source": [
    "# Retrieve all ICD-10 codes\n",
    "all_codes = cm.get_all_codes()"
   ]
  },
  {
   "cell_type": "code",
   "execution_count": 4,
   "metadata": {},
   "outputs": [],
   "source": [
    "# In all_codes, find all codes that contain a specific word and the code has no children\n",
    "def find_specific_codes(word):\n",
    "    return [code for code in all_codes if word.lower() in cm.get_description(code).lower() and not cm.get_children(code)]"
   ]
  },
  {
   "cell_type": "code",
   "execution_count": 5,
   "metadata": {},
   "outputs": [
    {
     "name": "stdout",
     "output_type": "stream",
     "text": [
      "247\n"
     ]
    }
   ],
   "source": [
    "# Conditions assumed to be related to bone marrow pathology (leukemia, lymphoma, myeloma, etc.)\n",
    "diseases = [\"Acute Myeloid Leukemia\",\n",
    "            \"Acute Lymphoblastic Leukemia\",\n",
    "            \"Chronic Myeloid Leukemia\",\n",
    "            \"Chronic Lymphocytic Leukemia\",\n",
    "            \"Diffuse Large B-Cell Lymphoma\",\n",
    "            \"Follicular Lymphoma\",\n",
    "            \"Mantle Cell Lymphoma\",\n",
    "            \"Burkitt Lymphoma\",\n",
    "            \"Hodgkin Lymphoma\",\n",
    "            \"Multiple Myeloma\",\n",
    "            \"Plasmacytoma\",\n",
    "            \"Monoclonal Gammopathy\",\n",
    "            \"Chronic Myeloid Leukemia\",\n",
    "            \"Polycythemia Vera\",\n",
    "            \"Thrombocythemia\",\n",
    "            \"Myelofibrosis\",\n",
    "            \"Histiocytic Sarcoma\",\n",
    "            \"Langerhans Cell Histiocytosis\",\n",
    "            \"Systemic Mastocytosis\"]\n",
    " \n",
    "relevant_codes = []\n",
    "for disease in diseases:\n",
    "    relevant_codes += find_specific_codes(disease)\n",
    "\n",
    "# Total number of codes containing the diseases\n",
    "print(len(relevant_codes))"
   ]
  },
  {
   "cell_type": "code",
   "execution_count": 6,
   "metadata": {},
   "outputs": [
    {
     "name": "stdout",
     "output_type": "stream",
     "text": [
      "Code: 2 - Neoplasms (C00-D49)\n",
      "Code: 21 - Factors influencing health status and contact with health services (Z00-Z99)\n",
      "Code: 3 - Diseases of the blood and blood-forming organs and certain disorders involving the immune mechanism (D50-D89)\n",
      "Code: 10 - Diseases of the respiratory system (J00-J99)\n"
     ]
    }
   ],
   "source": [
    "# Find the unique ancestors for the relevant codes\n",
    "unique_ancestors = []\n",
    "for code in relevant_codes:\n",
    "    if find_main_ancestor(code) not in unique_ancestors:\n",
    "        unique_ancestors.append(find_main_ancestor(code))\n",
    "        print(f'Code: {find_main_ancestor(code)} - {cm.get_description(find_main_ancestor(code))}')\n"
   ]
  },
  {
   "cell_type": "code",
   "execution_count": 7,
   "metadata": {},
   "outputs": [
    {
     "name": "stdout",
     "output_type": "stream",
     "text": [
      "Code 2: 243\n",
      "Code 3: 1\n",
      "Code 10: 1\n",
      "Code 21: 2\n"
     ]
    }
   ],
   "source": [
    "# Count the number of codes per each main ancestor\n",
    "code_2_count = 0\n",
    "code_3_count = 0\n",
    "code_10_count = 0\n",
    "code_21_count = 0\n",
    "for code in relevant_codes:\n",
    "    if find_main_ancestor(code) == '2':\n",
    "        code_2_count += 1\n",
    "    if find_main_ancestor(code) == '3': \n",
    "        code_3_count += 1\n",
    "    if find_main_ancestor(code) == '10':\n",
    "        code_10_count += 1\n",
    "    if find_main_ancestor(code) == '21':\n",
    "        code_21_count += 1\n",
    "print(f'Code 2: {code_2_count}')\n",
    "print(f'Code 3: {code_3_count}')\n",
    "print(f'Code 10: {code_10_count}')\n",
    "print(f'Code 21: {code_21_count}')\n",
    "\n",
    "relevant_codes_trimmed = []\n",
    "for code in relevant_codes:\n",
    "    if find_main_ancestor(code) == '2':\n",
    "        relevant_codes_trimmed.append(code)"
   ]
  },
  {
   "cell_type": "code",
   "execution_count": 8,
   "metadata": {},
   "outputs": [],
   "source": [
    "# save relevant_codes one line at a time in a text file\n",
    "with open('relevant_codes.txt', 'w') as f:\n",
    "    for code in relevant_codes_trimmed:\n",
    "        f.write(f'{code}\\n')"
   ]
  }
 ],
 "metadata": {
  "kernelspec": {
   "display_name": ".venv",
   "language": "python",
   "name": "python3"
  },
  "language_info": {
   "codemirror_mode": {
    "name": "ipython",
    "version": 3
   },
   "file_extension": ".py",
   "mimetype": "text/x-python",
   "name": "python",
   "nbconvert_exporter": "python",
   "pygments_lexer": "ipython3",
   "version": "3.10.5"
  }
 },
 "nbformat": 4,
 "nbformat_minor": 2
}
