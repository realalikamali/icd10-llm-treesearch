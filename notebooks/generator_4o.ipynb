{
 "cells": [
  {
   "cell_type": "markdown",
   "metadata": {},
   "source": [
    "# Sample Report Generation Notebook Using GPT-4o"
   ]
  },
  {
   "cell_type": "code",
   "execution_count": 1,
   "metadata": {},
   "outputs": [],
   "source": [
    "import os\n",
    "from icd10cm_utils import get_hierarchy, get_hierarchy_with_code\n",
    "from treesearch import TreeSearchCode\n",
    "from model import ReportGenerator"
   ]
  },
  {
   "cell_type": "code",
   "execution_count": 2,
   "metadata": {},
   "outputs": [],
   "source": [
    "if \"OPENAI_API_KEY\" not in os.environ: \n",
    "    os.environ['OPENAI_API_KEY'] = \"openai_api_key\""
   ]
  },
  {
   "cell_type": "code",
   "execution_count": 7,
   "metadata": {},
   "outputs": [
    {
     "name": "stdout",
     "output_type": "stream",
     "text": [
      "Parent: 2 - Neoplasms (C00-D49)\n",
      "Parent: C81-C96 - Malignant neoplasms of lymphoid, hematopoietic and related tissue (C81-C96)\n",
      "Parent: C83 - Non-follicular lymphoma\n",
      "Parent: C83.1 - Mantle cell lymphoma\n",
      "Code: C83.12 - Mantle cell lymphoma, intrathoracic lymph nodes\n",
      "\n"
     ]
    }
   ],
   "source": [
    "report_generator_instance = ReportGenerator('prompt_template.txt', api_type='openai', model_name='gpt-4o', temperature= 0.01)\n",
    "# sample code to generate report\n",
    "code = 'C83.12'\n",
    "# target folder\n",
    "target_folder = 'synthetic_reports_test'\n",
    "print(get_hierarchy_with_code(code)+'\\n')\n",
    "generated_report = report_generator_instance.invoke(get_hierarchy(code))\n",
    "# save the generated report to a file in the syntetic_reports folder\n",
    "if not os.path.exists(target_folder):\n",
    "    os.makedirs(target_folder)\n",
    "with open(f\"{target_folder}/report.txt\", \"w\") as file:\n",
    "    file.write(generated_report)"
   ]
  },
  {
   "cell_type": "code",
   "execution_count": 5,
   "metadata": {},
   "outputs": [
    {
     "name": "stdout",
     "output_type": "stream",
     "text": [
      "Current level: C81-C96 - Description: Malignant neoplasms of lymphoid, hematopoietic and related tissue (C81-C96)\n",
      "Current level: C83 - Description: Non-follicular lymphoma\n",
      "Current level: C83.1 - Description: Mantle cell lymphoma\n",
      "Current level: C83.12 - Description: Mantle cell lymphoma, intrathoracic lymph nodes\n",
      "Current level: C88 - Description: Malignant immunoproliferative diseases and certain other B-cell lymphomas\n",
      "\n",
      "All plausible paths (length >= 2):\n",
      "2 -> C81-C96\n",
      "2 -> C81-C96 -> C83\n",
      "2 -> C81-C96 -> C83 -> C83.1\n",
      "2 -> C81-C96 -> C83 -> C83.1 -> C83.12\n",
      "2 -> C81-C96 -> C88\n"
     ]
    }
   ],
   "source": [
    "tree_serach_instance = TreeSearchCode(f\"{target_folder}/report.txt\", model_name='gpt-4o', temperature= 0.01)\n",
    "path_strings = tree_serach_instance.run_through_llm_allpaths()\n",
    "with open(f\"{target_folder}/estimated_path.txt\", \"w\") as file:\n",
    "    for path in path_strings:\n",
    "        file.write(path + \"\\n\")"
   ]
  }
 ],
 "metadata": {
  "kernelspec": {
   "display_name": "Python 3",
   "language": "python",
   "name": "python3"
  },
  "language_info": {
   "codemirror_mode": {
    "name": "ipython",
    "version": 3
   },
   "file_extension": ".py",
   "mimetype": "text/x-python",
   "name": "python",
   "nbconvert_exporter": "python",
   "pygments_lexer": "ipython3",
   "version": "3.10.5"
  }
 },
 "nbformat": 4,
 "nbformat_minor": 2
}
