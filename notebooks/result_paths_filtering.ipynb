{
 "cells": [
  {
   "cell_type": "markdown",
   "metadata": {},
   "source": [
    "# Demonstration of Path Trimming Functionality"
   ]
  },
  {
   "cell_type": "code",
   "execution_count": 1,
   "metadata": {},
   "outputs": [],
   "source": [
    "from icd10cm_utils import trim_path\n",
    "import os"
   ]
  },
  {
   "cell_type": "code",
   "execution_count": 2,
   "metadata": {},
   "outputs": [
    {
     "name": "stdout",
     "output_type": "stream",
     "text": [
      "Original path:\n",
      "2 -> C81-C96\n",
      "2 -> C81-C96 -> C83\n",
      "2 -> C81-C96 -> C83 -> C83.1\n",
      "2 -> C81-C96 -> C83 -> C83.1 -> C83.12\n",
      "2 -> C81-C96 -> C88\n",
      "\n",
      "Trimmed path:\n",
      "2 -> C81-C96 -> C83 -> C83.1 -> C83.12\n",
      "2 -> C81-C96 -> C88\n"
     ]
    }
   ],
   "source": [
    "path_file = os.path.join('synthetic_reports_test', 'estimated_path.txt')\n",
    "trimmed_path = trim_path(path_file)\n",
    "\n",
    "print (\"Original path:\")\n",
    "print(open(path_file).read())\n",
    "\n",
    "print (\"Trimmed path:\")\n",
    "print(trimmed_path)"
   ]
  }
 ],
 "metadata": {
  "kernelspec": {
   "display_name": ".venv",
   "language": "python",
   "name": "python3"
  },
  "language_info": {
   "codemirror_mode": {
    "name": "ipython",
    "version": 3
   },
   "file_extension": ".py",
   "mimetype": "text/x-python",
   "name": "python",
   "nbconvert_exporter": "python",
   "pygments_lexer": "ipython3",
   "version": "3.10.5"
  }
 },
 "nbformat": 4,
 "nbformat_minor": 2
}
